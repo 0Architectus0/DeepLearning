{
 "cells": [
  {
   "cell_type": "markdown",
   "metadata": {},
   "source": [
    "<div style=\"width: 100%; overflow: hidden;\">\n",
    "    <div style=\"width: 150px; float: left;\"> <img src=\"data/D4Sci_logo_ball.png\" alt=\"Data For Science, Inc\" align=\"left\" border=\"0\"> </div>\n",
    "    <div style=\"float: left; margin-left: 10px;\"> <h1>Deep Learning From Scratch</h1>\n",
    "<h2>Modular Network</h2>\n",
    "        <p>Bruno Gonçalves<br/>\n",
    "        <a href=\"http://www.data4sci.com/\">www.data4sci.com</a><br/>\n",
    "            @bgoncalves, @data4sci</p></div>\n",
    "</div>"
   ]
  },
  {
   "cell_type": "code",
   "execution_count": 1,
   "metadata": {},
   "outputs": [],
   "source": [
    "import numpy as np\n",
    "import pandas as pd\n",
    "import matplotlib.pyplot as plt\n",
    "import seaborn as sns\n",
    "\n",
    "import watermark\n",
    "\n",
    "%load_ext watermark\n",
    "%matplotlib inline"
   ]
  },
  {
   "cell_type": "code",
   "execution_count": 2,
   "metadata": {
    "scrolled": true
   },
   "outputs": [
    {
     "name": "stdout",
     "output_type": "stream",
     "text": [
      "numpy      1.16.2\n",
      "watermark  1.8.1\n",
      "seaborn    0.9.0\n",
      "matplotlib 3.1.0\n",
      "pandas     0.24.2\n",
      "Tue Sep 24 2019 2019-09-24T12:12:50-04:00\n",
      "\n",
      "CPython 3.7.3\n",
      "IPython 6.2.1\n",
      "\n",
      "compiler   : Clang 4.0.1 (tags/RELEASE_401/final)\n",
      "system     : Darwin\n",
      "release    : 18.7.0\n",
      "machine    : x86_64\n",
      "processor  : i386\n",
      "CPU cores  : 8\n",
      "interpreter: 64bit\n",
      "Git hash   : 46e8ada9ae78bc5ab280631b85d64d9ea1891da7\n"
     ]
    }
   ],
   "source": [
    "%watermark -i -n -v -m -g -iv"
   ]
  },
  {
   "cell_type": "markdown",
   "metadata": {},
   "source": [
    "# Load Dataset"
   ]
  },
  {
   "cell_type": "code",
   "execution_count": 3,
   "metadata": {},
   "outputs": [],
   "source": [
    "X_train = np.load('input/X_train.npy')\n",
    "X_test = np.load('input/X_test.npy')\n",
    "y_train = np.load('input/y_train.npy')\n",
    "y_test = np.load('input/y_test.npy')"
   ]
  },
  {
   "cell_type": "markdown",
   "metadata": {},
   "source": [
    "Preprocessing"
   ]
  },
  {
   "cell_type": "code",
   "execution_count": 4,
   "metadata": {},
   "outputs": [],
   "source": [
    "input_layer_size = X_train.shape[1]\n",
    "\n",
    "X_train /= 255.\n",
    "X_test /= 255."
   ]
  },
  {
   "cell_type": "markdown",
   "metadata": {},
   "source": [
    "## Initialize weights"
   ]
  },
  {
   "cell_type": "markdown",
   "metadata": {},
   "source": [
    "We define the initializatino function as we'll have to call it more than once"
   ]
  },
  {
   "cell_type": "code",
   "execution_count": 5,
   "metadata": {},
   "outputs": [],
   "source": [
    "def init_weights(L_in, L_out):\n",
    "    epsilon = 0.12\n",
    "\n",
    "    return 2*np.random.rand(L_out, L_in+1)*epsilon - epsilon"
   ]
  },
  {
   "cell_type": "markdown",
   "metadata": {},
   "source": [
    "Set the layer sizes we'll be using"
   ]
  },
  {
   "cell_type": "code",
   "execution_count": 6,
   "metadata": {},
   "outputs": [],
   "source": [
    "hidden_layer_size = 50\n",
    "num_labels = 10"
   ]
  },
  {
   "cell_type": "markdown",
   "metadata": {},
   "source": [
    "Initialize the weights. In this case we use a array of weight matrices so that we can easily add/remove layers"
   ]
  },
  {
   "cell_type": "code",
   "execution_count": 7,
   "metadata": {},
   "outputs": [],
   "source": [
    "Thetas = []\n",
    "Thetas.append(init_weights(input_layer_size, hidden_layer_size))\n",
    "Thetas.append(init_weights(hidden_layer_size, num_labels))"
   ]
  },
  {
   "cell_type": "markdown",
   "metadata": {},
   "source": [
    "## Utility functions"
   ]
  },
  {
   "cell_type": "markdown",
   "metadata": {},
   "source": [
    "One-hot encoding to define the labels"
   ]
  },
  {
   "cell_type": "code",
   "execution_count": 8,
   "metadata": {},
   "outputs": [],
   "source": [
    "def one_hot(K, pos):\n",
    "    y0 = np.zeros(K)\n",
    "    y0[pos] = 1\n",
    "\n",
    "    return y0"
   ]
  },
  {
   "cell_type": "markdown",
   "metadata": {},
   "source": [
    "Activation function base class. Here we must provide an interface to both the activation function and its derivative"
   ]
  },
  {
   "cell_type": "code",
   "execution_count": 9,
   "metadata": {},
   "outputs": [],
   "source": [
    "class Activation(object):\n",
    "    def f(z):\n",
    "        pass\n",
    "\n",
    "    def df(z):\n",
    "        pass"
   ]
  },
  {
   "cell_type": "markdown",
   "metadata": {},
   "source": [
    "The various activation functions simply extend the base class"
   ]
  },
  {
   "cell_type": "code",
   "execution_count": 10,
   "metadata": {},
   "outputs": [],
   "source": [
    "class Linear(Activation):\n",
    "    def f(z):\n",
    "        return z\n",
    "\n",
    "    def df(z):\n",
    "        return np.ones(z.shape)\n",
    "\n",
    "class ReLu(Activation):\n",
    "    def f(z):\n",
    "        return np.where(z > 0, z, 0)\n",
    "\n",
    "    def df(z):\n",
    "        return np.where(z > 0, 1, 0)\n",
    "\n",
    "class Sigmoid(Activation):\n",
    "    def f(z):\n",
    "        return 1./(1+np.exp(-z))\n",
    "    \n",
    "    def df(z):\n",
    "        h = Sigmoid.f(z)\n",
    "        return h*(1-h)\n",
    "\n",
    "class TanH(Activation):\n",
    "    def f(z):\n",
    "        return np.tanh(z)\n",
    "\n",
    "    def df(z):\n",
    "        return 1-np.power(np.tanh(z), 2.0)"
   ]
  },
  {
   "cell_type": "markdown",
   "metadata": {},
   "source": [
    "## Forward Propagation and Prediction"
   ]
  },
  {
   "cell_type": "markdown",
   "metadata": {},
   "source": [
    "The forward and predict functions are also generalized"
   ]
  },
  {
   "cell_type": "code",
   "execution_count": 11,
   "metadata": {},
   "outputs": [],
   "source": [
    "def forward(Theta, X, active):\n",
    "    N = X.shape[0]\n",
    "\n",
    "    # Add the bias column\n",
    "    X_ = np.concatenate((np.ones((N, 1)), X), 1)\n",
    "\n",
    "    # Multiply by the weights\n",
    "    z = np.dot(X_, Theta.T)\n",
    "\n",
    "    # Apply the activation function\n",
    "    a = active.f(z)\n",
    "\n",
    "    return a"
   ]
  },
  {
   "cell_type": "markdown",
   "metadata": {},
   "source": [
    "The predict function now takes the entire model as input and it must loop over the various layers"
   ]
  },
  {
   "cell_type": "code",
   "execution_count": 12,
   "metadata": {},
   "outputs": [],
   "source": [
    "def predict(model, X):\n",
    "    h = X.copy()\n",
    "\n",
    "    for i in range(0, len(model), 2):\n",
    "        theta = model[i]\n",
    "        activation = model[i+1]\n",
    "\n",
    "        h = forward(theta, h, activation)\n",
    "\n",
    "    return np.argmax(h, 1)"
   ]
  },
  {
   "cell_type": "markdown",
   "metadata": {},
   "source": [
    "The accuracy function is just the same as before"
   ]
  },
  {
   "cell_type": "code",
   "execution_count": 13,
   "metadata": {},
   "outputs": [],
   "source": [
    "def accuracy(y_, y):\n",
    "    return np.mean((y_ == y.flatten()))*100."
   ]
  },
  {
   "cell_type": "markdown",
   "metadata": {},
   "source": [
    "## Back propagation"
   ]
  },
  {
   "cell_type": "code",
   "execution_count": 14,
   "metadata": {},
   "outputs": [],
   "source": [
    "def backprop(model, X, y):\n",
    "    M = X.shape[0]\n",
    "\n",
    "    Thetas=[0]\n",
    "    Thetas.extend(model[0::2])\n",
    "    activations = [0]\n",
    "    activations.extend(model[1::2])\n",
    "\n",
    "    layers = len(Thetas)\n",
    "\n",
    "    K = Thetas[-1].shape[0]\n",
    "    J = 0\n",
    "\n",
    "    Deltas = [0]\n",
    "\n",
    "    for i in range(1, layers):\n",
    "        Deltas.append(np.zeros(Thetas[i].shape))\n",
    "\n",
    "    deltas = [0]*(layers+1)\n",
    "\n",
    "    for i in range(M):\n",
    "        As = [0]\n",
    "        Zs = [0, 0]\n",
    "        Hs = [0, X[i]]\n",
    "\n",
    "        # Forward propagation, saving intermediate results\n",
    "        As.append(np.concatenate(([1], Hs[1])))  # Input layer\n",
    "\n",
    "        for l in range(2, layers+1):\n",
    "            Zs.append(np.dot(Thetas[l-1], As[l-1]))\n",
    "            Hs.append(activations[l-1].f(Zs[l]))\n",
    "            As.append(np.concatenate(([1], Hs[l])))\n",
    "\n",
    "        y0 = one_hot(K, y[i])\n",
    "\n",
    "        # Cross entropy\n",
    "        J -= np.dot(y0.T, np.log(Hs[-1]))+np.dot((1-y0).T, np.log(1-Hs[-1]))\n",
    "\n",
    "        deltas[layers] = Hs[layers]-y0\n",
    "\n",
    "        # Calculate the weight deltas\n",
    "        for l in range(layers-1, 1, -1):\n",
    "            deltas[l] = np.dot(Thetas[l].T, deltas[l+1])[1:]*activations[l].df(Zs[l])\n",
    "\n",
    "        Deltas[2] += np.outer(deltas[3], As[2])\n",
    "        Deltas[1] += np.outer(deltas[2], As[1])\n",
    "\n",
    "    J /= M\n",
    "\n",
    "    grads = []\n",
    "\n",
    "    grads.append(Deltas[1]/M)\n",
    "    grads.append(Deltas[2]/M)\n",
    "\n",
    "    return [J, grads]"
   ]
  },
  {
   "cell_type": "markdown",
   "metadata": {},
   "source": [
    "## Model Definition"
   ]
  },
  {
   "cell_type": "code",
   "execution_count": 15,
   "metadata": {},
   "outputs": [],
   "source": [
    "model = []\n",
    "\n",
    "model.append(Thetas[0])\n",
    "model.append(Sigmoid)\n",
    "model.append(Thetas[1])\n",
    "model.append(Sigmoid)"
   ]
  },
  {
   "cell_type": "markdown",
   "metadata": {},
   "source": [
    "## Training procedure\n",
    "The same basic idea as before"
   ]
  },
  {
   "cell_type": "code",
   "execution_count": 16,
   "metadata": {},
   "outputs": [
    {
     "name": "stdout",
     "output_type": "stream",
     "text": [
      "10 3.1066703442137187 3.1223124514860214 45.7 41.9\n",
      "20 2.8834967892918213 2.9154204030914235 56.54 53.800000000000004\n",
      "30 2.578071124447666 2.6284440147620862 61.82 59.699999999999996\n",
      "40 2.269848883241639 2.333836901261769 67.46 65.10000000000001\n",
      "50 2.014031428818632 2.0853587364966195 72.96000000000001 69.89999999999999\n",
      "60 1.8109391906187269 1.8858641244316585 76.96 74.6\n",
      "70 1.6482135016149666 1.725073538391292 80.25999999999999 77.2\n",
      "80 1.515881673882198 1.59414295763626 82.36 79.0\n",
      "90 1.4066432185383093 1.4863417847503781 83.96000000000001 81.3\n",
      "100 1.315071668693909 1.3964805099643078 85.26 82.69999999999999\n",
      "110 1.2371598868338394 1.3205866155595278 85.98 83.8\n",
      "120 1.1699802560746821 1.255663899828594 86.44 84.6\n",
      "130 1.111397532044071 1.1994728785131956 87.3 85.6\n",
      "140 1.059839876542069 1.150339523697407 87.83999999999999 86.4\n",
      "150 1.014128324574433 1.107001757816776 88.08 87.2\n",
      "160 0.9733559238540138 1.0684934264093129 88.38000000000001 87.4\n",
      "170 0.9368052007542261 1.0340601181974034 88.66000000000001 87.3\n",
      "180 0.9038933823667828 1.0030999141615655 88.96 87.8\n",
      "190 0.8741366783995705 0.9751226320106483 89.18 88.0\n"
     ]
    }
   ],
   "source": [
    "step = 0\n",
    "tol = 1e-3\n",
    "J_old = 1/tol\n",
    "diff = 1\n",
    "\n",
    "acc_train = []\n",
    "acc_test = []\n",
    "J_val = []\n",
    "steps = []\n",
    "\n",
    "while diff > tol:\n",
    "    J_train, grads = backprop(model, X_train, y_train)\n",
    "\n",
    "    diff = abs(J_old-J_train)\n",
    "    J_old = J_train\n",
    "    J_val.append(J_train)\n",
    "\n",
    "    step += 1\n",
    "\n",
    "    if step % 10 == 0:\n",
    "        pred_train = predict(model, X_train)\n",
    "        pred_test = predict(model, X_test)\n",
    "\n",
    "        J_test, grads = backprop(model, X_test, y_test)\n",
    "\n",
    "        acc_train.append(accuracy(pred_train, y_train))\n",
    "        acc_test.append(accuracy(pred_test, y_test))\n",
    "        steps.append(step)\n",
    "        \n",
    "        print(step, J_train, J_test, acc_train[-1], acc_test[-1])\n",
    "\n",
    "    for i in range(len(Thetas)):\n",
    "        Thetas[i] -= .5*grads[i]"
   ]
  },
  {
   "cell_type": "markdown",
   "metadata": {},
   "source": [
    "## Accuracy during training"
   ]
  },
  {
   "cell_type": "code",
   "execution_count": 17,
   "metadata": {},
   "outputs": [
    {
     "data": {
      "image/png": "[encoded data removed]",
      "text/plain": [
       "<Figure size 792x576 with 1 Axes>"
      ]
     },
     "metadata": {
      "needs_background": "light"
     },
     "output_type": "display_data"
    }
   ],
   "source": [
    "plt.plot(np.arange(1, len(J_val)+1), J_val)\n",
    "plt.xlabel(\"Iterations\")\n",
    "plt.ylabel(\"Cost function\")\n",
    "plt.gcf().set_size_inches(11, 8)"
   ]
  },
  {
   "cell_type": "code",
   "execution_count": 18,
   "metadata": {},
   "outputs": [
    {
     "data": {
      "image/png": "[encoded data removed]",
      "text/plain": [
       "<Figure size 792x576 with 1 Axes>"
      ]
     },
     "metadata": {
      "needs_background": "light"
     },
     "output_type": "display_data"
    }
   ],
   "source": [
    "plt.plot(steps, acc_train, label='Training dataset')\n",
    "plt.plot(steps, acc_test, label='Testing dataset')\n",
    "plt.xlabel(\"iterations\")\n",
    "plt.ylabel(\"Accuracy (%)\")\n",
    "plt.legend()\n",
    "plt.gcf().set_size_inches(11, 8)"
   ]
  },
  {
   "cell_type": "markdown",
   "metadata": {},
   "source": [
    "<div style=\"width: 100%; overflow: hidden;\">\n",
    "     <img src=\"data/D4Sci_logo_full.png\" alt=\"Data For Science, Inc\" align=\"center\" border=\"0\" width=300px> \n",
    "</div>"
   ]
  }
 ],
 "metadata": {
  "kernelspec": {
   "display_name": "Python 3",
   "language": "python",
   "name": "python3"
  },
  "language_info": {
   "codemirror_mode": {
    "name": "ipython",
    "version": 3
   },
   "file_extension": ".py",
   "mimetype": "text/x-python",
   "name": "python",
   "nbconvert_exporter": "python",
   "pygments_lexer": "ipython3",
   "version": "3.7.3"
  }
 },
 "nbformat": 4,
 "nbformat_minor": 2
}
