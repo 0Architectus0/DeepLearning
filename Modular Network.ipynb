{
 "cells": [
  {
   "cell_type": "markdown",
   "metadata": {},
   "source": [
    "<div style=\"width: 100%; overflow: hidden;\">\n",
    "    <div style=\"width: 150px; float: left;\"> <img src=\"data/D4Sci_logo_ball.png\" alt=\"Data For Science, Inc\" align=\"left\" border=\"0\"> </div>\n",
    "    <div style=\"float: left; margin-left: 10px;\"> <h1>Deep Learning From Scratch</h1>\n",
    "<h2>Modular Network</h2>\n",
    "        <p>Bruno Gonçalves<br/>\n",
    "        <a href=\"http://www.data4sci.com/\">www.data4sci.com</a><br/>\n",
    "            @bgoncalves, @data4sci</p></div>\n",
    "</div>"
   ]
  },
  {
   "cell_type": "code",
   "execution_count": 1,
   "metadata": {},
   "outputs": [],
   "source": [
    "import numpy as np\n",
    "import pandas as pd\n",
    "import matplotlib.pyplot as plt\n",
    "import seaborn as sns\n",
    "\n",
    "import watermark\n",
    "\n",
    "%load_ext watermark\n",
    "%matplotlib inline"
   ]
  },
  {
   "cell_type": "code",
   "execution_count": 2,
   "metadata": {
    "scrolled": true
   },
   "outputs": [
    {
     "name": "stdout",
     "output_type": "stream",
     "text": [
      "seaborn    0.9.0\n",
      "matplotlib 3.1.0\n",
      "numpy      1.16.2\n",
      "watermark  1.8.1\n",
      "pandas     0.24.2\n",
      "Mon Sep 23 2019 2019-09-23T22:05:01-04:00\n",
      "\n",
      "CPython 3.7.3\n",
      "IPython 6.2.1\n",
      "\n",
      "compiler   : Clang 4.0.1 (tags/RELEASE_401/final)\n",
      "system     : Darwin\n",
      "release    : 18.7.0\n",
      "machine    : x86_64\n",
      "processor  : i386\n",
      "CPU cores  : 8\n",
      "interpreter: 64bit\n",
      "Git hash   : 257ca1850405e2c214a57bc0c4ccdc6e02a54dcc\n"
     ]
    }
   ],
   "source": [
    "%watermark -i -n -v -m -g -iv"
   ]
  },
  {
   "cell_type": "markdown",
   "metadata": {},
   "source": [
    "# Load Dataset"
   ]
  },
  {
   "cell_type": "code",
   "execution_count": 3,
   "metadata": {},
   "outputs": [],
   "source": [
    "X_train = np.load('input/X_train.npy')\n",
    "X_test = np.load('input/X_test.npy')\n",
    "y_train = np.load('input/y_train.npy')\n",
    "y_test = np.load('input/y_test.npy')"
   ]
  },
  {
   "cell_type": "markdown",
   "metadata": {},
   "source": [
    "Preprocessing"
   ]
  },
  {
   "cell_type": "code",
   "execution_count": 4,
   "metadata": {},
   "outputs": [],
   "source": [
    "input_layer_size = X_train.shape[1]\n",
    "\n",
    "X_train /= 255.\n",
    "X_test /= 255."
   ]
  },
  {
   "cell_type": "markdown",
   "metadata": {},
   "source": [
    "## Initialize weights"
   ]
  },
  {
   "cell_type": "markdown",
   "metadata": {},
   "source": [
    "We define the initializatino function as we'll have to call it more than once"
   ]
  },
  {
   "cell_type": "code",
   "execution_count": 5,
   "metadata": {},
   "outputs": [],
   "source": [
    "def init_weights(L_in, L_out):\n",
    "    epsilon = 0.12\n",
    "\n",
    "    return 2*np.random.rand(L_out, L_in+1)*epsilon - epsilon"
   ]
  },
  {
   "cell_type": "markdown",
   "metadata": {},
   "source": [
    "Set the layer sizes we'll be using"
   ]
  },
  {
   "cell_type": "code",
   "execution_count": 6,
   "metadata": {},
   "outputs": [],
   "source": [
    "hidden_layer_size = 50\n",
    "num_labels = 10"
   ]
  },
  {
   "cell_type": "markdown",
   "metadata": {},
   "source": [
    "Initialize the weights. In this case we use a array of weight matrices so that we can easily add/remove layers"
   ]
  },
  {
   "cell_type": "code",
   "execution_count": 7,
   "metadata": {},
   "outputs": [],
   "source": [
    "Thetas = []\n",
    "Thetas.append(init_weights(input_layer_size, hidden_layer_size))\n",
    "Thetas.append(init_weights(hidden_layer_size, num_labels))"
   ]
  },
  {
   "cell_type": "markdown",
   "metadata": {},
   "source": [
    "## Utility functions"
   ]
  },
  {
   "cell_type": "markdown",
   "metadata": {},
   "source": [
    "One-hot encoding to define the labels"
   ]
  },
  {
   "cell_type": "code",
   "execution_count": 8,
   "metadata": {},
   "outputs": [],
   "source": [
    "def one_hot(K, pos):\n",
    "    y0 = np.zeros(K)\n",
    "    y0[pos] = 1\n",
    "\n",
    "    return y0"
   ]
  },
  {
   "cell_type": "markdown",
   "metadata": {},
   "source": [
    "Activation function base class. Here we must provide an interface to both the activation function and its derivative"
   ]
  },
  {
   "cell_type": "code",
   "execution_count": 9,
   "metadata": {},
   "outputs": [],
   "source": [
    "class Activation(object):\n",
    "    def f(z):\n",
    "        pass\n",
    "\n",
    "    def df(z):\n",
    "        pass"
   ]
  },
  {
   "cell_type": "markdown",
   "metadata": {},
   "source": [
    "The various activation functions simply extend the base class"
   ]
  },
  {
   "cell_type": "code",
   "execution_count": 10,
   "metadata": {},
   "outputs": [],
   "source": [
    "class Linear(Activation):\n",
    "    def f(z):\n",
    "        return z\n",
    "\n",
    "    def df(z):\n",
    "        return np.ones(z.shape)\n",
    "\n",
    "class ReLu(Activation):\n",
    "    def f(z):\n",
    "        return np.where(z > 0, z, 0)\n",
    "\n",
    "    def df(z):\n",
    "        return np.where(z > 0, 1, 0)\n",
    "\n",
    "class Sigmoid(Activation):\n",
    "    def f(z):\n",
    "        return 1./(1+np.exp(-z))\n",
    "    \n",
    "    def df(z):\n",
    "        h = Sigmoid.f(z)\n",
    "        return h*(1-h)\n",
    "\n",
    "class TanH(Activation):\n",
    "    def f(z):\n",
    "        return np.tanh(z)\n",
    "\n",
    "    def df(z):\n",
    "        return 1-np.power(np.tanh(z), 2.0)"
   ]
  },
  {
   "cell_type": "markdown",
   "metadata": {},
   "source": [
    "## Forward Propagation and Prediction"
   ]
  },
  {
   "cell_type": "markdown",
   "metadata": {},
   "source": [
    "The forward and predict functions are also generalized"
   ]
  },
  {
   "cell_type": "code",
   "execution_count": 11,
   "metadata": {},
   "outputs": [],
   "source": [
    "def forward(Theta, X, active):\n",
    "    N = X.shape[0]\n",
    "\n",
    "    # Add the bias column\n",
    "    X_ = np.concatenate((np.ones((N, 1)), X), 1)\n",
    "\n",
    "    # Multiply by the weights\n",
    "    z = np.dot(X_, Theta.T)\n",
    "\n",
    "    # Apply the activation function\n",
    "    a = active.f(z)\n",
    "\n",
    "    return a"
   ]
  },
  {
   "cell_type": "markdown",
   "metadata": {},
   "source": [
    "The predict function now takes the entire model as input and it must loop over the various layers"
   ]
  },
  {
   "cell_type": "code",
   "execution_count": 12,
   "metadata": {},
   "outputs": [],
   "source": [
    "def predict(model, X):\n",
    "    h = X.copy()\n",
    "\n",
    "    for i in range(0, len(model), 2):\n",
    "        theta = model[i]\n",
    "        activation = model[i+1]\n",
    "\n",
    "        h = forward(theta, h, activation)\n",
    "\n",
    "    return np.argmax(h, 1)"
   ]
  },
  {
   "cell_type": "markdown",
   "metadata": {},
   "source": [
    "The accuracy function is just the same as before"
   ]
  },
  {
   "cell_type": "code",
   "execution_count": 13,
   "metadata": {},
   "outputs": [],
   "source": [
    "def accuracy(y_, y):\n",
    "    return np.mean((y_ == y.flatten()))*100."
   ]
  },
  {
   "cell_type": "markdown",
   "metadata": {},
   "source": [
    "## Back propagation"
   ]
  },
  {
   "cell_type": "code",
   "execution_count": 14,
   "metadata": {},
   "outputs": [],
   "source": [
    "def backprop(model, X, y):\n",
    "    M = X.shape[0]\n",
    "\n",
    "    Thetas=[0]\n",
    "    Thetas.extend(model[0::2])\n",
    "    activations = [0]\n",
    "    activations.extend(model[1::2])\n",
    "\n",
    "    layers = len(Thetas)\n",
    "\n",
    "    K = Thetas[-1].shape[0]\n",
    "    J = 0\n",
    "\n",
    "    Deltas = [0]\n",
    "\n",
    "    for i in range(1, layers):\n",
    "        Deltas.append(np.zeros(Thetas[i].shape))\n",
    "\n",
    "    deltas = [0]*(layers+1)\n",
    "\n",
    "    for i in range(M):\n",
    "        As = [0]\n",
    "        Zs = [0, 0]\n",
    "        Hs = [0, X[i]]\n",
    "\n",
    "        # Forward propagation, saving intermediate results\n",
    "        As.append(np.concatenate(([1], Hs[1])))  # Input layer\n",
    "\n",
    "        for l in range(2, layers+1):\n",
    "            Zs.append(np.dot(Thetas[l-1], As[l-1]))\n",
    "            Hs.append(activations[l-1].f(Zs[l]))\n",
    "            As.append(np.concatenate(([1], Hs[l])))\n",
    "\n",
    "        y0 = one_hot(K, y[i])\n",
    "\n",
    "        # Cross entropy\n",
    "        J -= np.dot(y0.T, np.log(Hs[-1]))+np.dot((1-y0).T, np.log(1-Hs[-1]))\n",
    "\n",
    "        deltas[layers] = Hs[layers]-y0\n",
    "\n",
    "        # Calculate the weight deltas\n",
    "        for l in range(layers-1, 1, -1):\n",
    "            deltas[l] = np.dot(Thetas[l].T, deltas[l+1])[1:]*activations[l].df(Zs[l])\n",
    "\n",
    "        Deltas[2] += np.outer(deltas[3], As[2])\n",
    "        Deltas[1] += np.outer(deltas[2], As[1])\n",
    "\n",
    "    J /= M\n",
    "\n",
    "    grads = []\n",
    "\n",
    "    grads.append(Deltas[1]/M)\n",
    "    grads.append(Deltas[2]/M)\n",
    "\n",
    "    return [J, grads]"
   ]
  },
  {
   "cell_type": "markdown",
   "metadata": {},
   "source": [
    "## Model Definition"
   ]
  },
  {
   "cell_type": "code",
   "execution_count": 15,
   "metadata": {},
   "outputs": [],
   "source": [
    "model = []\n",
    "\n",
    "model.append(Thetas[0])\n",
    "model.append(Sigmoid)\n",
    "model.append(Thetas[1])\n",
    "model.append(Sigmoid)"
   ]
  },
  {
   "cell_type": "markdown",
   "metadata": {},
   "source": [
    "## Training procedure\n",
    "The same basic idea as before"
   ]
  },
  {
   "cell_type": "code",
   "execution_count": 16,
   "metadata": {},
   "outputs": [
    {
     "name": "stdout",
     "output_type": "stream",
     "text": [
      "10 3.1321157194074787 3.138252919959913 40.9 35.199999999999996\n",
      "20 2.921924465668045 2.940729127427783 59.0 52.300000000000004\n",
      "30 2.6075507454880684 2.645420423560972 64.16 59.9\n",
      "40 2.277909810360351 2.333664129329656 68.5 64.5\n",
      "50 2.012422904971197 2.0801658435365864 73.11999999999999 69.69999999999999\n",
      "60 1.811394266614097 1.8864430443971563 76.1 73.0\n",
      "70 1.655511271866731 1.7351297942587383 78.62 75.3\n",
      "80 1.5300930223427265 1.6127821226875139 80.46 76.7\n",
      "90 1.426050248452153 1.5110378925332912 82.04 78.2\n",
      "100 1.3378016186012154 1.42473649985903 83.39999999999999 79.9\n",
      "110 1.2617479312492406 1.3504974680100188 84.52 81.5\n",
      "120 1.1954097426929575 1.28593209823492 85.36 82.89999999999999\n",
      "130 1.1369813530057171 1.229251912125111 86.11999999999999 83.7\n",
      "140 1.0851033944766355 1.1790775279100647 86.8 84.6\n",
      "150 1.0387345617856227 1.1343339176955123 87.32 85.6\n",
      "160 0.9970661702967529 1.094179541321003 87.7 86.2\n",
      "170 0.9594590362733662 1.0579508068101169 88.2 86.8\n",
      "180 0.925396206580515 1.0251171849947096 88.68 87.6\n",
      "190 0.8944487107843871 0.9952461087104838 89.05999999999999 87.9\n"
     ]
    }
   ],
   "source": [
    "step = 0\n",
    "tol = 1e-3\n",
    "J_old = 1/tol\n",
    "diff = 1\n",
    "\n",
    "acc_train = []\n",
    "acc_test = []\n",
    "J_val = []\n",
    "steps = []\n",
    "\n",
    "while diff > tol:\n",
    "    J_train, grads = backprop(model, X_train, y_train)\n",
    "\n",
    "    diff = abs(J_old-J_train)\n",
    "    J_old = J_train\n",
    "    J_val.append(J_train)\n",
    "\n",
    "    step += 1\n",
    "\n",
    "    if step % 10 == 0:\n",
    "        pred_train = predict(model, X_train)\n",
    "        pred_test = predict(model, X_test)\n",
    "\n",
    "        J_test, grads = backprop(model, X_test, y_test)\n",
    "\n",
    "        acc_train.append(accuracy(pred_train, y_train))\n",
    "        acc_test.append(accuracy(pred_test, y_test))\n",
    "        steps.append(step)\n",
    "        \n",
    "        print(step, J_train, J_test, acc_train[-1], acc_test[-1])\n",
    "\n",
    "    for i in range(len(Thetas)):\n",
    "        Thetas[i] -= .5*grads[i]"
   ]
  },
  {
   "cell_type": "markdown",
   "metadata": {},
   "source": [
    "## Accuracy during training"
   ]
  },
  {
   "cell_type": "code",
   "execution_count": 17,
   "metadata": {},
   "outputs": [
    {
     "data": {
      "image/png": "[encoded data removed]",
      "text/plain": [
       "<Figure size 792x576 with 1 Axes>"
      ]
     },
     "metadata": {
      "needs_background": "light"
     },
     "output_type": "display_data"
    }
   ],
   "source": [
    "plt.plot(np.arange(1, len(J_val)+1), J_val)\n",
    "plt.xlabel(\"Iterations\")\n",
    "plt.ylabel(\"Cost function\")\n",
    "plt.gcf().set_size_inches(11, 8)"
   ]
  },
  {
   "cell_type": "code",
   "execution_count": 18,
   "metadata": {},
   "outputs": [
    {
     "data": {
      "image/png": "[encoded data removed]",
      "text/plain": [
       "<Figure size 792x576 with 1 Axes>"
      ]
     },
     "metadata": {
      "needs_background": "light"
     },
     "output_type": "display_data"
    }
   ],
   "source": [
    "plt.plot(steps, acc_train, label='Training dataset')\n",
    "plt.plot(steps, acc_test, label='Testing dataset')\n",
    "plt.xlabel(\"iterations\")\n",
    "plt.ylabel(\"Accuracy (%)\")\n",
    "plt.legend()\n",
    "plt.gcf().set_size_inches(11, 8)"
   ]
  },
  {
   "cell_type": "markdown",
   "metadata": {},
   "source": [
    "<div style=\"width: 100%; overflow: hidden;\">\n",
    "     <img src=\"data/D4Sci_logo_full.png\" alt=\"Data For Science, Inc\" align=\"center\" border=\"0\" width=300px> \n",
    "</div>"
   ]
  }
 ],
 "metadata": {
  "kernelspec": {
   "display_name": "Python 3",
   "language": "python",
   "name": "python3"
  },
  "language_info": {
   "codemirror_mode": {
    "name": "ipython",
    "version": 3
   },
   "file_extension": ".py",
   "mimetype": "text/x-python",
   "name": "python",
   "nbconvert_exporter": "python",
   "pygments_lexer": "ipython3",
   "version": "3.7.3"
  }
 },
 "nbformat": 4,
 "nbformat_minor": 2
}
