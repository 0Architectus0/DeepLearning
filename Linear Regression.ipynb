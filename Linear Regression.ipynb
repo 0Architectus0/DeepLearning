{
 "cells": [
  {
   "cell_type": "markdown",
   "metadata": {},
   "source": [
    "<div style=\"width: 100%; overflow: hidden;\">\n",
    "    <div style=\"width: 150px; float: left;\"> <img src=\"data/D4Sci_logo_ball.png\" alt=\"Data For Science, Inc\" align=\"left\" border=\"0\"> </div>\n",
    "    <div style=\"float: left; margin-left: 10px;\"> <h1>Deep Learning From Scratch</h1>\n",
    "<h2>Linear Regression</h2>\n",
    "        <p>Bruno Gonçalves<br/>\n",
    "        <a href=\"http://www.data4sci.com/\">www.data4sci.com</a><br/>\n",
    "            @bgoncalves, @data4sci</p></div>\n",
    "</div>"
   ]
  },
  {
   "cell_type": "code",
   "execution_count": 1,
   "metadata": {},
   "outputs": [],
   "source": [
    "import numpy as np\n",
    "import matplotlib.pyplot as plt\n",
    "\n",
    "import watermark\n",
    "\n",
    "%load_ext watermark\n",
    "%matplotlib inline"
   ]
  },
  {
   "cell_type": "code",
   "execution_count": 2,
   "metadata": {},
   "outputs": [
    {
     "name": "stdout",
     "output_type": "stream",
     "text": [
      "watermark  1.8.1\n",
      "numpy      1.16.2\n",
      "matplotlib 3.1.0\n",
      "Tue Sep 24 2019 2019-09-24T09:28:48-04:00\n",
      "\n",
      "CPython 3.7.3\n",
      "IPython 6.2.1\n",
      "\n",
      "compiler   : Clang 4.0.1 (tags/RELEASE_401/final)\n",
      "system     : Darwin\n",
      "release    : 18.7.0\n",
      "machine    : x86_64\n",
      "processor  : i386\n",
      "CPU cores  : 8\n",
      "interpreter: 64bit\n",
      "Git hash   : 46e8ada9ae78bc5ab280631b85d64d9ea1891da7\n"
     ]
    }
   ],
   "source": [
    "%watermark -i -n -v -m -g -iv"
   ]
  },
  {
   "cell_type": "code",
   "execution_count": 3,
   "metadata": {},
   "outputs": [],
   "source": [
    "data = np.array(np.loadtxt(\"data/Anscombe1.dat\"))"
   ]
  },
  {
   "cell_type": "code",
   "execution_count": 4,
   "metadata": {},
   "outputs": [
    {
     "name": "stdout",
     "output_type": "stream",
     "text": [
      "[[10.    8.04]\n",
      " [ 8.    6.95]\n",
      " [13.    7.58]\n",
      " [ 9.    8.81]\n",
      " [11.    8.33]\n",
      " [14.    9.96]\n",
      " [ 6.    7.24]\n",
      " [ 4.    4.26]\n",
      " [12.   10.84]\n",
      " [ 7.    4.82]\n",
      " [ 5.    5.68]]\n"
     ]
    }
   ],
   "source": [
    "print(data)"
   ]
  },
  {
   "cell_type": "code",
   "execution_count": 6,
   "metadata": {},
   "outputs": [],
   "source": [
    "X = data[:, 0].reshape(-1, 1)\n",
    "y = data[:, 1].reshape(-1, 1)"
   ]
  },
  {
   "cell_type": "code",
   "execution_count": 7,
   "metadata": {},
   "outputs": [
    {
     "data": {
      "text/plain": [
       "array([[10.],\n",
       "       [ 8.],\n",
       "       [13.],\n",
       "       [ 9.],\n",
       "       [11.],\n",
       "       [14.],\n",
       "       [ 6.],\n",
       "       [ 4.],\n",
       "       [12.],\n",
       "       [ 7.],\n",
       "       [ 5.]])"
      ]
     },
     "execution_count": 7,
     "metadata": {},
     "output_type": "execute_result"
    }
   ],
   "source": [
    "X"
   ]
  },
  {
   "cell_type": "code",
   "execution_count": 8,
   "metadata": {},
   "outputs": [
    {
     "data": {
      "text/plain": [
       "array([[ 8.04],\n",
       "       [ 6.95],\n",
       "       [ 7.58],\n",
       "       [ 8.81],\n",
       "       [ 8.33],\n",
       "       [ 9.96],\n",
       "       [ 7.24],\n",
       "       [ 4.26],\n",
       "       [10.84],\n",
       "       [ 4.82],\n",
       "       [ 5.68]])"
      ]
     },
     "execution_count": 8,
     "metadata": {},
     "output_type": "execute_result"
    }
   ],
   "source": [
    "y"
   ]
  },
  {
   "cell_type": "code",
   "execution_count": 9,
   "metadata": {},
   "outputs": [
    {
     "data": {
      "image/png": "[encoded data removed]",
      "text/plain": [
       "<Figure size 792x576 with 1 Axes>"
      ]
     },
     "metadata": {
      "needs_background": "light"
     },
     "output_type": "display_data"
    }
   ],
   "source": [
    "plt.plot(X, y, '*')\n",
    "plt.xlabel('X')\n",
    "plt.ylabel('y')\n",
    "plt.gcf().set_size_inches(11, 8)"
   ]
  },
  {
   "cell_type": "markdown",
   "metadata": {},
   "source": [
    "Get matrix dimensions and add the bias column"
   ]
  },
  {
   "cell_type": "code",
   "execution_count": 10,
   "metadata": {},
   "outputs": [],
   "source": [
    "M, N = X.shape\n",
    "X = np.concatenate((np.ones((M, 1)), X), axis=1) #Add x0"
   ]
  },
  {
   "cell_type": "code",
   "execution_count": 11,
   "metadata": {},
   "outputs": [
    {
     "name": "stdout",
     "output_type": "stream",
     "text": [
      "[[ 1. 10.]\n",
      " [ 1.  8.]\n",
      " [ 1. 13.]\n",
      " [ 1.  9.]\n",
      " [ 1. 11.]\n",
      " [ 1. 14.]\n",
      " [ 1.  6.]\n",
      " [ 1.  4.]\n",
      " [ 1. 12.]\n",
      " [ 1.  7.]\n",
      " [ 1.  5.]]\n"
     ]
    }
   ],
   "source": [
    "print(X)"
   ]
  },
  {
   "cell_type": "markdown",
   "metadata": {},
   "source": [
    "Set the training parameters and initialize the weight matrix"
   ]
  },
  {
   "cell_type": "code",
   "execution_count": 12,
   "metadata": {},
   "outputs": [],
   "source": [
    "alpha = 0.01\n",
    "epsilon = 0.12\n",
    "\n",
    "weights = 2*np.random.rand(N+1, 1)*epsilon - epsilon\n",
    "count = 0"
   ]
  },
  {
   "cell_type": "markdown",
   "metadata": {},
   "source": [
    "## Training Procedure"
   ]
  },
  {
   "cell_type": "code",
   "execution_count": 13,
   "metadata": {},
   "outputs": [
    {
     "name": "stdout",
     "output_type": "stream",
     "text": [
      "100 1.0156121187233378 0.000850294716994604 [0.33867803 0.76362272]\n",
      "200 0.9392871281862785 0.0006839027618601445 [0.61324329 0.7364354 ]\n",
      "300 0.8778979759499936 0.0005500716143855833 [0.85948297 0.71205287]\n",
      "400 0.8285219067782602 0.0004424295350546892 [1.08031928 0.69018576]\n",
      "500 0.788808111782883 0.0003558516534383216 [1.27837296 0.67057458]\n",
      "600 0.7568658057348 0.00028621597163347445 [1.45599438 0.6529866 ]\n",
      "700 0.7311742062342188 0.00023020711475285616 [1.61529145 0.63721308]\n",
      "800 0.7105101288221294 0.00018515848497269172 [1.7581546  0.62306684]\n",
      "900 0.6938897508155676 0.0001489253040438676 [1.88627924 0.61038   ]\n",
      "1000 0.6805217712260517 0.00011978249977417921 [2.00118588 0.599002  ]\n",
      "1100 0.669769736691388 9.634257485158226e-05 [2.10423814 0.58879781]\n",
      "1200 0.6611217397476118 7.748954769304373e-05 [2.196659   0.57964635]\n",
      "1300 0.6541660467670455 6.232582024046085e-05 [2.27954523 0.57143899]\n",
      "1400 0.6485714952015851 5.012944305782252e-05 [2.35388049 0.56407835]\n",
      "1500 0.6440717268383123 4.0319743110361905e-05 [2.42054694 0.55747707]\n",
      "1600 0.640452506408185 3.2429677757184194e-05 [2.48033572 0.55155681]\n",
      "1700 0.6375415217831182 2.6083598711257316e-05 [2.53395639 0.54624732]\n",
      "1800 0.6352001801458864 2.0979367319928777e-05 [2.58204526 0.54148559]\n",
      "1900 0.6333170095461422 1.6873969654884746e-05 [2.62517303 0.53721509]\n",
      "2000 0.6318023516887206 1.3571946549606473e-05 [2.66385152 0.53338517]\n",
      "2100 0.6305840932763592 1.091608773295949e-05 [2.69853974 0.52995036]\n",
      "2200 0.6296042326748277 8.779946999215582e-06 [2.72964933 0.5268699 ]\n",
      "2300 0.6288161184383956 7.061822073883839e-06 [2.7575495  0.52410724]\n",
      "2400 0.6281822282210567 5.6799125335293965e-06 [2.78257134 0.52162959]\n",
      "2500 0.6276723823268161 4.568425266526788e-06 [2.80501179 0.51940755]\n",
      "2600 0.6272623068456619 3.6744420426337854e-06 [2.82513718 0.51741474]\n",
      "2700 0.6269324779657126 2.9554000647857848e-06 [2.84318632 0.51562753]\n",
      "2800 0.6266671924389065 2.3770655349641956e-06 [2.85937342 0.51402469]\n",
      "2900 0.626453819944831 1.911903780627e-06 [2.87389057 0.51258721]\n",
      "3000 0.6262822017575282 1.5377683174611079e-06 [2.88691005 0.51129802]\n",
      "3100 0.6261441670856248 1.236846446817097e-06 [2.89858638 0.51014184]\n",
      "3198 0.6260351358497136 9.99153387470919e-07 [2.90885967 0.50912458]\n"
     ]
    }
   ],
   "source": [
    "oldJ = 0\n",
    "err = 1\n",
    "\n",
    "Js = []\n",
    "\n",
    "while err > 1e-6:\n",
    "    Hs = np.dot(X, weights)\n",
    "    deltas = alpha/M*np.dot(X.T, (Hs-y))\n",
    "\n",
    "    count += 1\n",
    "    weights -= deltas\n",
    "\n",
    "    J = np.sum(np.power(Hs-y, 2.))/(2*M)\n",
    "    Js.append(J)\n",
    "    err = np.abs(oldJ-J)\n",
    "    oldJ = J\n",
    "    \n",
    "    if count % 100 == 0:\n",
    "        print(count, J, err, weights.flatten())\n",
    "\n",
    "print(count, J, err, weights.flatten())"
   ]
  },
  {
   "cell_type": "code",
   "execution_count": 16,
   "metadata": {},
   "outputs": [
    {
     "data": {
      "text/plain": [
       "[<matplotlib.lines.Line2D at 0x11735f780>]"
      ]
     },
     "execution_count": 16,
     "metadata": {},
     "output_type": "execute_result"
    },
    {
     "data": {
      "image/png": "[encoded data removed]",
      "text/plain": [
       "<Figure size 432x288 with 1 Axes>"
      ]
     },
     "metadata": {
      "needs_background": "light"
     },
     "output_type": "display_data"
    }
   ],
   "source": [
    "plt.loglog(Js)"
   ]
  },
  {
   "cell_type": "code",
   "execution_count": 17,
   "metadata": {},
   "outputs": [
    {
     "data": {
      "text/plain": [
       "array([2.90885967, 0.50912458])"
      ]
     },
     "execution_count": 17,
     "metadata": {},
     "output_type": "execute_result"
    }
   ],
   "source": [
    "weights.flatten()"
   ]
  },
  {
   "cell_type": "code",
   "execution_count": 18,
   "metadata": {},
   "outputs": [
    {
     "data": {
      "image/png": "[encoded data removed]",
      "text/plain": [
       "<Figure size 792x576 with 1 Axes>"
      ]
     },
     "metadata": {
      "needs_background": "light"
     },
     "output_type": "display_data"
    }
   ],
   "source": [
    "plt.plot(X.T[1], y, '*', label='points')\n",
    "plt.plot(X.T[1], np.dot(X, weights.flatten()), 'r-', label='y = %2.2f + %2.2f x' % tuple(weights.flatten()))\n",
    "plt.xlabel('X')\n",
    "plt.ylabel('y')\n",
    "plt.legend()\n",
    "plt.gcf().set_size_inches(11, 8)"
   ]
  },
  {
   "cell_type": "markdown",
   "metadata": {},
   "source": [
    "<div style=\"width: 100%; overflow: hidden;\">\n",
    "     <img src=\"data/D4Sci_logo_full.png\" alt=\"Data For Science, Inc\" align=\"center\" border=\"0\" width=300px> \n",
    "</div>"
   ]
  }
 ],
 "metadata": {
  "anaconda-cloud": {},
  "kernelspec": {
   "display_name": "Python 3",
   "language": "python",
   "name": "python3"
  },
  "language_info": {
   "codemirror_mode": {
    "name": "ipython",
    "version": 3
   },
   "file_extension": ".py",
   "mimetype": "text/x-python",
   "name": "python",
   "nbconvert_exporter": "python",
   "pygments_lexer": "ipython3",
   "version": "3.7.3"
  }
 },
 "nbformat": 4,
 "nbformat_minor": 2
}
