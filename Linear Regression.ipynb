{
 "cells": [
  {
   "cell_type": "markdown",
   "metadata": {},
   "source": [
    "<div style=\"width: 100%; overflow: hidden;\">\n",
    "    <div style=\"width: 150px; float: left;\"> <img src=\"data/D4Sci_logo_ball.png\" alt=\"Data For Science, Inc\" align=\"left\" border=\"0\"> </div>\n",
    "    <div style=\"float: left; margin-left: 10px;\"> <h1>Deep Learning From Scratch</h1>\n",
    "<h2>Linear Regression</h2>\n",
    "        <p>Bruno Gonçalves<br/>\n",
    "        <a href=\"http://www.data4sci.com/\">www.data4sci.com</a><br/>\n",
    "            @bgoncalves, @data4sci</p></div>\n",
    "</div>"
   ]
  },
  {
   "cell_type": "code",
   "execution_count": 1,
   "metadata": {},
   "outputs": [],
   "source": [
    "import numpy as np\n",
    "import matplotlib.pyplot as plt\n",
    "\n",
    "import watermark\n",
    "\n",
    "%load_ext watermark\n",
    "%matplotlib inline"
   ]
  },
  {
   "cell_type": "code",
   "execution_count": 2,
   "metadata": {},
   "outputs": [
    {
     "name": "stdout",
     "output_type": "stream",
     "text": [
      "watermark  1.8.1\n",
      "numpy      1.16.2\n",
      "matplotlib 3.1.0\n",
      "Mon Sep 23 2019 2019-09-23T22:00:49-04:00\n",
      "\n",
      "CPython 3.7.3\n",
      "IPython 6.2.1\n",
      "\n",
      "compiler   : Clang 4.0.1 (tags/RELEASE_401/final)\n",
      "system     : Darwin\n",
      "release    : 18.7.0\n",
      "machine    : x86_64\n",
      "processor  : i386\n",
      "CPU cores  : 8\n",
      "interpreter: 64bit\n",
      "Git hash   : 257ca1850405e2c214a57bc0c4ccdc6e02a54dcc\n"
     ]
    }
   ],
   "source": [
    "%watermark -i -n -v -m -g -iv"
   ]
  },
  {
   "cell_type": "code",
   "execution_count": 3,
   "metadata": {},
   "outputs": [],
   "source": [
    "data = np.array(np.loadtxt(\"data/Anscombe1.dat\"))"
   ]
  },
  {
   "cell_type": "code",
   "execution_count": 4,
   "metadata": {},
   "outputs": [
    {
     "name": "stdout",
     "output_type": "stream",
     "text": [
      "[[10.    8.04]\n",
      " [ 8.    6.95]\n",
      " [13.    7.58]\n",
      " [ 9.    8.81]\n",
      " [11.    8.33]\n",
      " [14.    9.96]\n",
      " [ 6.    7.24]\n",
      " [ 4.    4.26]\n",
      " [12.   10.84]\n",
      " [ 7.    4.82]\n",
      " [ 5.    5.68]]\n"
     ]
    }
   ],
   "source": [
    "print(data)"
   ]
  },
  {
   "cell_type": "code",
   "execution_count": 5,
   "metadata": {},
   "outputs": [],
   "source": [
    "X = data[:, 0].reshape(-1, 1)\n",
    "y = data[:, 1].reshape(-1, 1)"
   ]
  },
  {
   "cell_type": "code",
   "execution_count": 6,
   "metadata": {},
   "outputs": [
    {
     "data": {
      "text/plain": [
       "array([[10.],\n",
       "       [ 8.],\n",
       "       [13.],\n",
       "       [ 9.],\n",
       "       [11.],\n",
       "       [14.],\n",
       "       [ 6.],\n",
       "       [ 4.],\n",
       "       [12.],\n",
       "       [ 7.],\n",
       "       [ 5.]])"
      ]
     },
     "execution_count": 6,
     "metadata": {},
     "output_type": "execute_result"
    }
   ],
   "source": [
    "X"
   ]
  },
  {
   "cell_type": "code",
   "execution_count": 7,
   "metadata": {},
   "outputs": [
    {
     "data": {
      "text/plain": [
       "array([[ 8.04],\n",
       "       [ 6.95],\n",
       "       [ 7.58],\n",
       "       [ 8.81],\n",
       "       [ 8.33],\n",
       "       [ 9.96],\n",
       "       [ 7.24],\n",
       "       [ 4.26],\n",
       "       [10.84],\n",
       "       [ 4.82],\n",
       "       [ 5.68]])"
      ]
     },
     "execution_count": 7,
     "metadata": {},
     "output_type": "execute_result"
    }
   ],
   "source": [
    "y"
   ]
  },
  {
   "cell_type": "code",
   "execution_count": 8,
   "metadata": {},
   "outputs": [
    {
     "data": {
      "image/png": "[encoded data removed]",
      "text/plain": [
       "<Figure size 792x576 with 1 Axes>"
      ]
     },
     "metadata": {
      "needs_background": "light"
     },
     "output_type": "display_data"
    }
   ],
   "source": [
    "plt.plot(X, y, '*')\n",
    "plt.xlabel('X')\n",
    "plt.ylabel('y')\n",
    "plt.gcf().set_size_inches(11, 8)"
   ]
  },
  {
   "cell_type": "markdown",
   "metadata": {},
   "source": [
    "Get matrix dimensions and add the bias column"
   ]
  },
  {
   "cell_type": "code",
   "execution_count": 9,
   "metadata": {},
   "outputs": [],
   "source": [
    "M, N = X.shape\n",
    "X = np.concatenate((np.ones((M, 1)), X), axis=1) #Add x0"
   ]
  },
  {
   "cell_type": "code",
   "execution_count": 10,
   "metadata": {},
   "outputs": [
    {
     "name": "stdout",
     "output_type": "stream",
     "text": [
      "[[ 1. 10.]\n",
      " [ 1.  8.]\n",
      " [ 1. 13.]\n",
      " [ 1.  9.]\n",
      " [ 1. 11.]\n",
      " [ 1. 14.]\n",
      " [ 1.  6.]\n",
      " [ 1.  4.]\n",
      " [ 1. 12.]\n",
      " [ 1.  7.]\n",
      " [ 1.  5.]]\n"
     ]
    }
   ],
   "source": [
    "print(X)"
   ]
  },
  {
   "cell_type": "markdown",
   "metadata": {},
   "source": [
    "Set the training parameters and initialize the weight matrix"
   ]
  },
  {
   "cell_type": "code",
   "execution_count": 11,
   "metadata": {},
   "outputs": [],
   "source": [
    "alpha = 0.01\n",
    "epsilon = 0.12\n",
    "\n",
    "weights = 2*np.random.rand(N+1, 1)*epsilon - epsilon\n",
    "count = 0"
   ]
  },
  {
   "cell_type": "markdown",
   "metadata": {},
   "source": [
    "## Training Procedure"
   ]
  },
  {
   "cell_type": "code",
   "execution_count": 12,
   "metadata": {},
   "outputs": [
    {
     "name": "stdout",
     "output_type": "stream",
     "text": [
      "100 1.0076208742288448 0.0008328734400830928 [0.36608333 0.76090906]\n",
      "200 0.9328596694813658 0.0006698906091838763 [0.63782132 0.73400169]\n",
      "300 0.872728289872709 0.000538801463314531 [0.8815254  0.70987024]\n",
      "400 0.8243638630840636 0.00043336481044808917 [1.10008769 0.6882283 ]\n",
      "500 0.7854637448127462 0.00034856078114486877 [1.29610196 0.66881907]\n",
      "600 0.7541758892131066 0.00028035183112040674 [1.47189437 0.65141219]\n",
      "700 0.7290106724598785 0.00022549051259945774 [1.62955111 0.63580109]\n",
      "800 0.7087699713284074 0.00018136486239173077 [1.77094316 0.62180052]\n",
      "900 0.692490120202507 0.00014587404556953842 [1.89774847 0.60924432]\n",
      "1000 0.6793960306766573 0.0001173283341117104 [2.01147188 0.59798348]\n",
      "1100 0.6688642893735559 9.436865846590425e-05 [2.11346299 0.58788437]\n",
      "1200 0.6603934770535033 7.590190185591261e-05 [2.20493216 0.57882714]\n",
      "1300 0.6535802958998386 6.104885667534976e-05 [2.28696489 0.5707043 ]\n",
      "1400 0.6481003683936227 4.910236516142419e-05 [2.3605347  0.56341945]\n",
      "1500 0.6436927936064426 3.949365140909489e-05 [2.42651466 0.55688615]\n",
      "1600 0.6401477256319942 3.176524178560847e-05 [2.48568779 0.55102686]\n",
      "1700 0.6372963827619849 2.55491844818323e-05 [2.5387563  0.54577204]\n",
      "1800 0.6350030117403418 2.054953121677361e-05 [2.58634999 0.54105933]\n",
      "1900 0.6331584245115554 1.6528247058000822e-05 [2.62903367 0.53683282]\n",
      "2000 0.6316747997458753 1.3293877505593521e-05 [2.66731387 0.53304233]\n",
      "2100 0.6304815016404841 1.0692433294323678e-05 [2.70164489 0.52964289]\n",
      "2200 0.6295217169285615 8.600058914787212e-06 [2.73243414 0.52659415]\n",
      "2300 0.6287497499832702 6.917135819239917e-06 [2.76004701 0.52385994]\n",
      "2400 0.6281288472357897 5.563539554831465e-06 [2.7848112 0.5214078]\n",
      "2500 0.6276294473273091 4.474825011868688e-06 [2.80702058 0.51920864]\n",
      "2600 0.6272277736842103 3.5991581776029236e-06 [2.82693872 0.51723635]\n",
      "2700 0.6269047025085439 2.894848302958941e-06 [2.84480201 0.51546754]\n",
      "2800 0.6266448522884974 2.3283629898562808e-06 [2.86082242 0.51388121]\n",
      "2900 0.6264358514801798 1.8727317100397656e-06 [2.87519009 0.51245853]\n",
      "3000 0.6262677494948535 1.5062617266803358e-06 [2.88807551 0.51118262]\n",
      "3100 0.6261325429485333 1.2115052981931385e-06 [2.8996316  0.51003834]\n",
      "3189 0.6260346309413708 9.980526641806264e-07 [2.90890993 0.50911961]\n"
     ]
    }
   ],
   "source": [
    "oldJ = 0\n",
    "err = 1\n",
    "\n",
    "Js = []\n",
    "\n",
    "while err > 1e-6:\n",
    "    Hs = np.dot(X, weights)\n",
    "    deltas = alpha/M*np.dot(X.T, (Hs-y))\n",
    "\n",
    "    count += 1\n",
    "    weights -= deltas\n",
    "\n",
    "    J = np.sum(np.power(Hs-y, 2.))/(2*M)\n",
    "    Js.append(J)\n",
    "    err = np.abs(oldJ-J)\n",
    "    oldJ = J\n",
    "    \n",
    "    if count % 100 == 0:\n",
    "        print(count, J, err, weights.flatten())\n",
    "\n",
    "print(count, J, err, weights.flatten())"
   ]
  },
  {
   "cell_type": "code",
   "execution_count": 13,
   "metadata": {},
   "outputs": [
    {
     "data": {
      "text/plain": [
       "[<matplotlib.lines.Line2D at 0x117e7cdd8>]"
      ]
     },
     "execution_count": 13,
     "metadata": {},
     "output_type": "execute_result"
    },
    {
     "data": {
      "image/png": "[encoded data removed]",
      "text/plain": [
       "<Figure size 432x288 with 1 Axes>"
      ]
     },
     "metadata": {
      "needs_background": "light"
     },
     "output_type": "display_data"
    }
   ],
   "source": [
    "plt.loglog(Js)"
   ]
  },
  {
   "cell_type": "code",
   "execution_count": 14,
   "metadata": {},
   "outputs": [
    {
     "data": {
      "text/plain": [
       "array([2.90890993, 0.50911961])"
      ]
     },
     "execution_count": 14,
     "metadata": {},
     "output_type": "execute_result"
    }
   ],
   "source": [
    "weights.flatten()"
   ]
  },
  {
   "cell_type": "code",
   "execution_count": 15,
   "metadata": {},
   "outputs": [
    {
     "data": {
      "image/png": "[encoded data removed]",
      "text/plain": [
       "<Figure size 792x576 with 1 Axes>"
      ]
     },
     "metadata": {
      "needs_background": "light"
     },
     "output_type": "display_data"
    }
   ],
   "source": [
    "plt.plot(X.T[1], y, '*', label='points')\n",
    "plt.plot(X.T[1], np.dot(X, weights.flatten()), 'r-', label='y = %2.2f + %2.2f x' % tuple(weights.flatten()))\n",
    "plt.xlabel('X')\n",
    "plt.ylabel('y')\n",
    "plt.legend()\n",
    "plt.gcf().set_size_inches(11, 8)"
   ]
  },
  {
   "cell_type": "markdown",
   "metadata": {},
   "source": [
    "<div style=\"width: 100%; overflow: hidden;\">\n",
    "     <img src=\"data/D4Sci_logo_full.png\" alt=\"Data For Science, Inc\" align=\"center\" border=\"0\" width=300px> \n",
    "</div>"
   ]
  }
 ],
 "metadata": {
  "anaconda-cloud": {},
  "kernelspec": {
   "display_name": "Python 3",
   "language": "python",
   "name": "python3"
  },
  "language_info": {
   "codemirror_mode": {
    "name": "ipython",
    "version": 3
   },
   "file_extension": ".py",
   "mimetype": "text/x-python",
   "name": "python",
   "nbconvert_exporter": "python",
   "pygments_lexer": "ipython3",
   "version": "3.7.3"
  }
 },
 "nbformat": 4,
 "nbformat_minor": 2
}
